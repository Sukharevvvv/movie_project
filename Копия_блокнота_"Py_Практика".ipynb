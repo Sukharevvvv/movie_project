{
  "cells": [
    {
      "cell_type": "markdown",
      "metadata": {
        "id": "view-in-github",
        "colab_type": "text"
      },
      "source": [
        "<a href=\"https://colab.research.google.com/github/Sukharevvvv/movie_project/blob/master/%D0%9A%D0%BE%D0%BF%D0%B8%D1%8F_%D0%B1%D0%BB%D0%BE%D0%BA%D0%BD%D0%BE%D1%82%D0%B0_%22Py_%D0%9F%D1%80%D0%B0%D0%BA%D1%82%D0%B8%D0%BA%D0%B0%22.ipynb\" target=\"_parent\"><img src=\"https://colab.research.google.com/assets/colab-badge.svg\" alt=\"Open In Colab\"/></a>"
      ]
    },
    {
      "cell_type": "markdown",
      "metadata": {
        "id": "7c8d5847-0966-4c01-b470-7cdfe402431a"
      },
      "source": [
        "# **Практические задания к разделу «Основы Python»**"
      ],
      "id": "7c8d5847-0966-4c01-b470-7cdfe402431a"
    },
    {
      "cell_type": "markdown",
      "metadata": {
        "id": "7353ca15-b257-4a4c-99f9-d22da445c4ec"
      },
      "source": [
        "## Тема 2. Переменные (variables)"
      ],
      "id": "7353ca15-b257-4a4c-99f9-d22da445c4ec"
    },
    {
      "cell_type": "markdown",
      "metadata": {
        "id": "fe975974-8911-4ce1-8e04-e2a3a4f86622"
      },
      "source": [
        "### 2.1"
      ],
      "id": "fe975974-8911-4ce1-8e04-e2a3a4f86622"
    },
    {
      "cell_type": "markdown",
      "metadata": {
        "id": "4467dc5d-989a-48e8-be50-efeb93c1dd95"
      },
      "source": [
        "Создайте переменную, хранящую название романа Донны Тарт «Щегол». Назовите переменную book_title. Поместите в неё значение «Щегол» с помощью оператора присваивания. Выведите переменную на экран с помощью функции print()."
      ],
      "id": "4467dc5d-989a-48e8-be50-efeb93c1dd95"
    },
    {
      "cell_type": "code",
      "execution_count": null,
      "metadata": {
        "colab": {
          "base_uri": "https://localhost:8080/"
        },
        "id": "uCFo_sLvtfuK",
        "outputId": "c60236b8-0d42-4d61-b834-f95228c1cb03"
      },
      "outputs": [
        {
          "output_type": "stream",
          "name": "stdout",
          "text": [
            "Щегол\n"
          ]
        }
      ],
      "source": [
        "# допишите код\n",
        "book_title = 'Щегол'\n",
        "print(book_title)"
      ],
      "id": "uCFo_sLvtfuK"
    },
    {
      "cell_type": "markdown",
      "metadata": {
        "id": "10b09cba-1e9f-48e9-90c3-ed8840f2f8b0"
      },
      "source": [
        "### 2.2"
      ],
      "id": "10b09cba-1e9f-48e9-90c3-ed8840f2f8b0"
    },
    {
      "cell_type": "markdown",
      "metadata": {
        "id": "3c330ee2-4dcd-4dca-9f33-147b70aced7a"
      },
      "source": [
        "Создайте переменную, которая содержит год публикации романа на русском языке - 2014. Назовите переменную rus_publish_year. Выведите переменную на экран с помощью функции print()."
      ],
      "id": "3c330ee2-4dcd-4dca-9f33-147b70aced7a"
    },
    {
      "cell_type": "code",
      "execution_count": null,
      "metadata": {
        "colab": {
          "base_uri": "https://localhost:8080/"
        },
        "id": "cfDhkDdQwU_N",
        "outputId": "205ee367-88cb-42ae-8ca6-72b70e3ced66"
      },
      "outputs": [
        {
          "output_type": "stream",
          "name": "stdout",
          "text": [
            "2014\n"
          ]
        }
      ],
      "source": [
        "# допишите код\n",
        "rus_publish_year = 2014\n",
        "print(rus_publish_year)"
      ],
      "id": "cfDhkDdQwU_N"
    },
    {
      "cell_type": "markdown",
      "metadata": {
        "id": "8adf95a5-b0fa-4cc5-a9f1-e8ff40455c6f"
      },
      "source": [
        "### 2.3"
      ],
      "id": "8adf95a5-b0fa-4cc5-a9f1-e8ff40455c6f"
    },
    {
      "cell_type": "markdown",
      "metadata": {
        "id": "0e7a75e2-2cd3-4222-9bad-c3a1db7e664d"
      },
      "source": [
        "Какой тип данных содержат переменные book_title и rus_publish_year? Проверьте свое предположение, используя функцию `type()` и выведите типы переменных на экран с помощью функции print()."
      ],
      "id": "0e7a75e2-2cd3-4222-9bad-c3a1db7e664d"
    },
    {
      "cell_type": "code",
      "execution_count": null,
      "metadata": {
        "colab": {
          "base_uri": "https://localhost:8080/"
        },
        "id": "WnTq1ry3wkJh",
        "outputId": "d7daf87e-1ae2-4786-92f3-a9d555a2b29d"
      },
      "outputs": [
        {
          "output_type": "stream",
          "name": "stdout",
          "text": [
            "<class 'str'>\n",
            "<class 'int'>\n"
          ]
        }
      ],
      "source": [
        "# допишите код\n",
        "book_title_type = type(book_title)\n",
        "rus_publish_year_type = type(rus_publish_year)\n",
        "print(book_title_type)\n",
        "print(rus_publish_year_type)"
      ],
      "id": "WnTq1ry3wkJh"
    },
    {
      "cell_type": "markdown",
      "metadata": {
        "id": "8663def8-3baa-4b09-bbdf-189ae5a0cc76"
      },
      "source": [
        "### 2.4"
      ],
      "id": "8663def8-3baa-4b09-bbdf-189ae5a0cc76"
    },
    {
      "cell_type": "markdown",
      "metadata": {
        "id": "19fc0439-7c00-4e29-b81b-4c2f16b55a4f"
      },
      "source": [
        "Преобразуйте тип переменной `book_price` в целое число, используя функцию `int()` и выведите на экран значение и тип преобразованной переменной."
      ],
      "id": "19fc0439-7c00-4e29-b81b-4c2f16b55a4f"
    },
    {
      "cell_type": "code",
      "execution_count": null,
      "metadata": {
        "colab": {
          "base_uri": "https://localhost:8080/"
        },
        "id": "8f348a66-73a2-4132-b13f-cbfab89a3986",
        "outputId": "0a48511c-bc7b-4383-ca76-20b7267131fa"
      },
      "outputs": [
        {
          "output_type": "stream",
          "name": "stdout",
          "text": [
            "<class 'float'>\n",
            "958\n"
          ]
        }
      ],
      "source": [
        "book_price = 958.0\n",
        "print(type(book_price))\n",
        "\n",
        "# допишите код\n",
        "book_price_int = int(book_price)\n",
        "print(book_price_int)"
      ],
      "id": "8f348a66-73a2-4132-b13f-cbfab89a3986"
    },
    {
      "cell_type": "code",
      "execution_count": null,
      "metadata": {
        "id": "szXv0c9Wyr8u"
      },
      "outputs": [],
      "source": [
        "#@title Самопроверка (запустите код в ячейке)\n",
        "assert book_title == 'Щегол', 'Неверное значение book_title'\n",
        "assert rus_publish_year == 2014, 'Неверное значение rus_publish_year'\n",
        "assert type(book_title) is str, 'Неверный тип book_title'\n",
        "assert type(rus_publish_year) is int, 'Неверный тип rus_publish_year'\n",
        "assert type(book_price_int) is int, 'Неверный тип rus_publish_year'"
      ],
      "id": "szXv0c9Wyr8u"
    },
    {
      "cell_type": "markdown",
      "metadata": {
        "id": "5a610b6d-04bf-4911-bc46-ff3a8f11840c"
      },
      "source": [
        "## Тема 3. Числа (numbers)"
      ],
      "id": "5a610b6d-04bf-4911-bc46-ff3a8f11840c"
    },
    {
      "cell_type": "markdown",
      "metadata": {
        "id": "84b0a7f4-a348-4cb6-931c-372d87a50626"
      },
      "source": [
        "### 3.1"
      ],
      "id": "84b0a7f4-a348-4cb6-931c-372d87a50626"
    },
    {
      "cell_type": "markdown",
      "metadata": {
        "id": "57d73121-3cbd-4787-a58c-8a95af957946"
      },
      "source": [
        "Посчитайте разницу стоимости книги на ozon (`ozon_price`) и wildberries (`wb_price`). Результат сохраните в переменной `delta_price`. Выведите на экран её значение."
      ],
      "id": "57d73121-3cbd-4787-a58c-8a95af957946"
    },
    {
      "cell_type": "code",
      "execution_count": null,
      "metadata": {
        "colab": {
          "base_uri": "https://localhost:8080/"
        },
        "id": "2e9075fe-06ec-4e8b-a2f7-aae9f1ed4c95",
        "outputId": "d4701787-d2aa-4fce-9345-2dffeb86baad"
      },
      "outputs": [
        {
          "output_type": "stream",
          "name": "stdout",
          "text": [
            "102.20000000000005\n"
          ]
        }
      ],
      "source": [
        "ozon_price = 1058.2\n",
        "wb_price = 956\n",
        "# допишите код\n",
        "delta_price = ozon_price - wb_price\n",
        "print(delta_price)"
      ],
      "id": "2e9075fe-06ec-4e8b-a2f7-aae9f1ed4c95"
    },
    {
      "cell_type": "markdown",
      "metadata": {
        "id": "eda981df-bcd0-49ee-9e5d-383e25fd7737"
      },
      "source": [
        "### 3.2"
      ],
      "id": "eda981df-bcd0-49ee-9e5d-383e25fd7737"
    },
    {
      "cell_type": "markdown",
      "metadata": {
        "id": "aed66589-b5c6-476c-b23f-64361df3c57e"
      },
      "source": [
        "Округлите результат вычислений `delta_price` до первого знака после запятой, используя функцию `round()`. Выведите результат на экран."
      ],
      "id": "aed66589-b5c6-476c-b23f-64361df3c57e"
    },
    {
      "cell_type": "code",
      "execution_count": null,
      "metadata": {
        "colab": {
          "base_uri": "https://localhost:8080/"
        },
        "id": "s-Zz0ouE1CDa",
        "outputId": "f18aa0c1-ea22-4b85-f076-e4ad27090f1e"
      },
      "outputs": [
        {
          "output_type": "stream",
          "name": "stdout",
          "text": [
            "102.2\n"
          ]
        }
      ],
      "source": [
        "# допишите код\n",
        "delta_price_round = round(delta_price, 1)\n",
        "print(delta_price_round)"
      ],
      "id": "s-Zz0ouE1CDa"
    },
    {
      "cell_type": "markdown",
      "metadata": {
        "id": "53484126-fa83-4491-9421-fe8ae20c8759"
      },
      "source": [
        "### 3.3"
      ],
      "id": "53484126-fa83-4491-9421-fe8ae20c8759"
    },
    {
      "cell_type": "markdown",
      "metadata": {
        "id": "7a14f774-f5c7-43bf-ad7a-01b3ffd352a7"
      },
      "source": [
        "Имеются данные о выданных книгах в разрезе жанров. Общее количество выданных книг - 59. Определите, какую долю выданной литературы приходится на жанр - роман. Результат запишите в переменную `novel_share`, округлите его до второго знака после запятой, выведите переменнуюна экран (результат должен быть рассчитан именно как доля, а не процент)."
      ],
      "id": "7a14f774-f5c7-43bf-ad7a-01b3ffd352a7"
    },
    {
      "cell_type": "markdown",
      "metadata": {
        "id": "acfb76ea-56fc-4e08-82e4-95fb9a271dde"
      },
      "source": [
        "![image.png](data:image/png;base64,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)"
      ],
      "id": "acfb76ea-56fc-4e08-82e4-95fb9a271dde"
    },
    {
      "cell_type": "code",
      "execution_count": null,
      "metadata": {
        "colab": {
          "base_uri": "https://localhost:8080/"
        },
        "id": "C4iL5shf1amo",
        "outputId": "e074bc10-5905-4bfb-a80c-ddb44785682f"
      },
      "outputs": [
        {
          "output_type": "stream",
          "name": "stdout",
          "text": [
            "0.64\n"
          ]
        }
      ],
      "source": [
        "# допишите код\n",
        "novel_share = round(38/59, 2)\n",
        "print(novel_share)"
      ],
      "id": "C4iL5shf1amo"
    },
    {
      "cell_type": "markdown",
      "metadata": {
        "id": "5e943001-507a-40b7-b192-d9f753a9ace6"
      },
      "source": [
        "### 3.4"
      ],
      "id": "5e943001-507a-40b7-b192-d9f753a9ace6"
    },
    {
      "cell_type": "markdown",
      "metadata": {
        "id": "3a6cf566-60fe-41cb-8fff-7c124ee14f6a"
      },
      "source": [
        "Преобразуйте значение переменной `novel_share_str` из типа `str` в тип `float`. Для этого примените функцию float() и поместите результат в переменную `novel_share_float`. Определите тип объекта после преобразования функцией `type()` и выведите результат на экран."
      ],
      "id": "3a6cf566-60fe-41cb-8fff-7c124ee14f6a"
    },
    {
      "cell_type": "code",
      "execution_count": null,
      "metadata": {
        "colab": {
          "base_uri": "https://localhost:8080/"
        },
        "id": "74fc7f89-7308-4aac-8cdc-223c186ee60b",
        "outputId": "7146cf59-2571-4149-c2cf-7706f1ae3681"
      },
      "outputs": [
        {
          "output_type": "stream",
          "name": "stdout",
          "text": [
            "<class 'float'>\n"
          ]
        }
      ],
      "source": [
        "novel_share_str = '0.64'\n",
        "# допишите код\n",
        "novel_share_float = float(novel_share_str)\n",
        "novel_share_float_type = type(novel_share_float)\n",
        "print(novel_share_float_type)"
      ],
      "id": "74fc7f89-7308-4aac-8cdc-223c186ee60b"
    },
    {
      "cell_type": "code",
      "execution_count": null,
      "metadata": {
        "id": "euSMzJff0DWV"
      },
      "outputs": [],
      "source": [
        "#@title Самопроверка (запустите код в ячейке)\n",
        "assert delta_price == 102.20000000000005, 'Неверное значение delta_price'\n",
        "assert delta_price_round == 102.2, 'Неверное значение delta_price_round'\n",
        "assert novel_share == 0.64, 'Неверное значение novel_share'\n",
        "assert novel_share_float_type is float, 'Неверный тип novel_share_float'"
      ],
      "id": "euSMzJff0DWV"
    },
    {
      "cell_type": "markdown",
      "metadata": {
        "id": "4123fac3-20c5-4f64-a02c-950fe0882257"
      },
      "source": [
        "## Тема 4. Строки (string)"
      ],
      "id": "4123fac3-20c5-4f64-a02c-950fe0882257"
    },
    {
      "cell_type": "markdown",
      "metadata": {
        "id": "6f0e9baa-d43e-4743-83a1-31b481504557"
      },
      "source": [
        "### 4.1"
      ],
      "id": "6f0e9baa-d43e-4743-83a1-31b481504557"
    },
    {
      "cell_type": "markdown",
      "metadata": {
        "id": "535b8cbc-c640-4355-853f-75ea88609d0b"
      },
      "source": [
        "Сохраните в переменной `main_character` имя главного героя серии романов Джоан Роулинг о Гарри Поттере.\n",
        "Выведите на экран длину содержимого переменной."
      ],
      "id": "535b8cbc-c640-4355-853f-75ea88609d0b"
    },
    {
      "cell_type": "code",
      "execution_count": null,
      "metadata": {
        "colab": {
          "background_save": true,
          "base_uri": "https://localhost:8080/"
        },
        "id": "7Ic1i-AI21ze",
        "outputId": "cf291340-6247-402d-beef-bef9de85fb7e"
      },
      "outputs": [
        {
          "name": "stdout",
          "output_type": "stream",
          "text": [
            "12\n"
          ]
        }
      ],
      "source": [
        "# допишите код\n",
        "#(необходимо ввести \"Гарри Поттер\")\n",
        "main_character = \"Гарри Поттер\"\n",
        "main_character_len = len(main_character)\n",
        "print(main_character_len)"
      ],
      "id": "7Ic1i-AI21ze"
    },
    {
      "cell_type": "markdown",
      "metadata": {
        "id": "0f657caa-664b-40be-9e25-6fc0534d4d19"
      },
      "source": [
        "### 4.2"
      ],
      "id": "0f657caa-664b-40be-9e25-6fc0534d4d19"
    },
    {
      "cell_type": "markdown",
      "metadata": {
        "id": "eac27fb0-0638-4245-9ad6-f7d06f055947"
      },
      "source": [
        "Перед вами загадка сфинкса из турнира Кубок Огня:  \n",
        "\n",
        "Мой первый слог проворней всех слывёт по праву  \n",
        "Он очень быстр на руку, ногу и расправу;  \n",
        "Второй мой слог есть плод окружности решений  \n",
        "Её с диаметром законных отношений.  \n",
        "Мой третий слог — абстрактно названный мужчина  \n",
        "Ни цвета кожи, ни фамилии, ни чина.  \n",
        "Сложив их вместе, существо ты образуешь,  \n",
        "Какое ты скорей умрёшь, чем поцелуешь.   \n",
        "\n",
        "Сохраните ее в переменной `sphinx_riddle`  в виде многострочной строки.  \n",
        "Выведите содержимое переменной на экран."
      ],
      "id": "eac27fb0-0638-4245-9ad6-f7d06f055947"
    },
    {
      "cell_type": "code",
      "execution_count": null,
      "metadata": {
        "colab": {
          "base_uri": "https://localhost:8080/"
        },
        "id": "ZjFso5543fQl",
        "outputId": "81903fff-a52d-4c66-d8ac-5849ee57ab99"
      },
      "outputs": [
        {
          "output_type": "stream",
          "name": "stdout",
          "text": [
            "Мой первый слог проворней всех слывёт по праву\n",
            "Он очень быстр на руку, ногу и расправу;\n",
            "Второй мой слог есть плод окружности решений\n",
            "Её с диаметром законных отношений.\n",
            "Мой третий слог — абстрактно названный мужчина\n",
            "Ни цвета кожи, ни фамилии, ни чина.\n",
            "Сложив их вместе, существо ты образуешь,\n",
            "Какое ты скорей умрёшь, чем поцелуешь.\n"
          ]
        }
      ],
      "source": [
        "# допишите код\n",
        "#(необходимо ввести текст загадки)\n",
        "sphinx_riddle = '''Мой первый слог проворней всех слывёт по праву\n",
        "Он очень быстр на руку, ногу и расправу;\n",
        "Второй мой слог есть плод окружности решений\n",
        "Её с диаметром законных отношений.\n",
        "Мой третий слог — абстрактно названный мужчина\n",
        "Ни цвета кожи, ни фамилии, ни чина.\n",
        "Сложив их вместе, существо ты образуешь,\n",
        "Какое ты скорей умрёшь, чем поцелуешь.'''\n",
        "print(sphinx_riddle)"
      ],
      "id": "ZjFso5543fQl"
    },
    {
      "cell_type": "markdown",
      "metadata": {
        "id": "aceb07ad-6372-4b42-a9d4-2e655b4f2d57"
      },
      "source": [
        "### 4.3"
      ],
      "id": "aceb07ad-6372-4b42-a9d4-2e655b4f2d57"
    },
    {
      "cell_type": "markdown",
      "metadata": {
        "id": "f23f9cb2-b770-4983-b475-11a3d6907d27"
      },
      "source": [
        "С помощью неотрицательного индекса выведите на экран символ e из строки в переменной book_title."
      ],
      "id": "f23f9cb2-b770-4983-b475-11a3d6907d27"
    },
    {
      "cell_type": "code",
      "execution_count": null,
      "metadata": {
        "colab": {
          "base_uri": "https://localhost:8080/"
        },
        "id": "da2220b9-34fc-40d1-b939-abf5c1bd50c3",
        "outputId": "4daa5dab-69e1-4987-ae2e-b01e216ce682"
      },
      "outputs": [
        {
          "output_type": "stream",
          "name": "stdout",
          "text": [
            "е\n"
          ]
        }
      ],
      "source": [
        "book_title = 'Щегол'\n",
        "# допишите код\n",
        "book_title_e_plus = book_title[1]\n",
        "print(book_title_e_plus)"
      ],
      "id": "da2220b9-34fc-40d1-b939-abf5c1bd50c3"
    },
    {
      "cell_type": "markdown",
      "metadata": {
        "id": "513258c4-8d64-455f-aec9-d440e78634c7"
      },
      "source": [
        "### 4.4"
      ],
      "id": "513258c4-8d64-455f-aec9-d440e78634c7"
    },
    {
      "cell_type": "markdown",
      "metadata": {
        "id": "519dc579-cd4d-46d4-ae52-42630e976d1f"
      },
      "source": [
        "Примените отрицательный индекс, чтобы вывести на экран символ e из строки в переменной."
      ],
      "id": "519dc579-cd4d-46d4-ae52-42630e976d1f"
    },
    {
      "cell_type": "code",
      "execution_count": null,
      "metadata": {
        "colab": {
          "base_uri": "https://localhost:8080/"
        },
        "id": "f1b2798b-ac8f-43d3-8c6a-aadb1322f386",
        "outputId": "c7cba095-d180-4c80-f087-2bb4d7ad5ddf"
      },
      "outputs": [
        {
          "output_type": "stream",
          "name": "stdout",
          "text": [
            "е\n"
          ]
        }
      ],
      "source": [
        "book_title = 'Щегол'\n",
        "# допишите код\n",
        "book_title_e_minus = book_title[-4]\n",
        "print(book_title_e_minus)"
      ],
      "id": "f1b2798b-ac8f-43d3-8c6a-aadb1322f386"
    },
    {
      "cell_type": "markdown",
      "metadata": {
        "id": "6338f47c-55f2-4989-be7c-f0c7f995904c"
      },
      "source": [
        "### 4.5"
      ],
      "id": "6338f47c-55f2-4989-be7c-f0c7f995904c"
    },
    {
      "cell_type": "markdown",
      "metadata": {
        "id": "8b9b80df-170a-41b4-a0b0-c551792e5d5b"
      },
      "source": [
        "Переменная `word` хранит строку `фантом`. С помощью среза выведите на экран подстроку со словом `том`."
      ],
      "id": "8b9b80df-170a-41b4-a0b0-c551792e5d5b"
    },
    {
      "cell_type": "code",
      "execution_count": null,
      "metadata": {
        "colab": {
          "base_uri": "https://localhost:8080/"
        },
        "id": "16bbe4f6-e4fc-4d95-b828-8833ec2e109f",
        "outputId": "6368b5c6-dff6-49fc-f0dd-a70d3abdf79c"
      },
      "outputs": [
        {
          "output_type": "stream",
          "name": "stdout",
          "text": [
            "том\n"
          ]
        }
      ],
      "source": [
        "word = 'фантом'\n",
        "# допишите код\n",
        "word_slice = word[3:]\n",
        "print(word_slice)"
      ],
      "id": "16bbe4f6-e4fc-4d95-b828-8833ec2e109f"
    },
    {
      "cell_type": "markdown",
      "metadata": {
        "id": "a3825ac0-b57a-4a13-9d7d-04cbb10264bd"
      },
      "source": [
        "### 4.6"
      ],
      "id": "a3825ac0-b57a-4a13-9d7d-04cbb10264bd"
    },
    {
      "cell_type": "markdown",
      "metadata": {
        "id": "3dcc8570-cbef-4d87-b326-a43da36c1f03"
      },
      "source": [
        "Напишите пословицу \"Век живи - век учись\" 10 раз. Выведите на экран каждую фразу на отдельной строке.\n",
        "*Подсказка*: для вывода на отдельных строках укажите специальный символ переноса строки `\\n` после указания строки в функции `print()`"
      ],
      "id": "3dcc8570-cbef-4d87-b326-a43da36c1f03"
    },
    {
      "cell_type": "code",
      "execution_count": null,
      "metadata": {
        "colab": {
          "background_save": true
        },
        "id": "a69eda79-872d-4f1d-9cd7-b32dc5aa742d"
      },
      "outputs": [],
      "source": [
        "# пример\n",
        "print('строка\\n' * 10)"
      ],
      "id": "a69eda79-872d-4f1d-9cd7-b32dc5aa742d"
    },
    {
      "cell_type": "code",
      "execution_count": null,
      "metadata": {
        "colab": {
          "base_uri": "https://localhost:8080/"
        },
        "id": "GyvqB5Vw6XKf",
        "outputId": "fc392d93-945b-439e-a60a-c245b73cc67f"
      },
      "outputs": [
        {
          "output_type": "stream",
          "name": "stdout",
          "text": [
            "Век живи - век учись\n",
            "Век живи - век учись\n",
            "Век живи - век учись\n",
            "Век живи - век учись\n",
            "Век живи - век учись\n",
            "Век живи - век учись\n",
            "Век живи - век учись\n",
            "Век живи - век учись\n",
            "Век живи - век учись\n",
            "Век живи - век учись\n",
            "\n"
          ]
        }
      ],
      "source": [
        "# допишите код\n",
        "print(\"Век живи - век учись\\n\" *10 )"
      ],
      "id": "GyvqB5Vw6XKf"
    },
    {
      "cell_type": "markdown",
      "metadata": {
        "id": "0ff2e02c-2ec0-43a2-8ed8-51eef9f7789f"
      },
      "source": [
        "### 4.7"
      ],
      "id": "0ff2e02c-2ec0-43a2-8ed8-51eef9f7789f"
    },
    {
      "cell_type": "markdown",
      "metadata": {
        "id": "13c102dc-c553-4756-9152-101298b39ce4"
      },
      "source": [
        "Сложите строку `my_choice` c одной из переменных - `first`, `second`, `third` - на ваш выбор. Результат выведите на экран"
      ],
      "id": "13c102dc-c553-4756-9152-101298b39ce4"
    },
    {
      "cell_type": "code",
      "execution_count": null,
      "metadata": {
        "colab": {
          "base_uri": "https://localhost:8080/"
        },
        "id": "6004e208-ac98-4edd-9893-934c9f746c56",
        "outputId": "fef2cdf1-27ee-4874-9233-05e0f0f6abdf"
      },
      "outputs": [
        {
          "output_type": "stream",
          "name": "stdout",
          "text": [
            "Я хочу стать аналитиком\n"
          ]
        }
      ],
      "source": [
        "my_choice = 'Я хочу стать '\n",
        "first = 'аналитиком'\n",
        "second = 'тестировщиком'\n",
        "third = 'разработчиком'\n",
        "# допишите код\n",
        "my_own_choice = my_choice + first\n",
        "print(my_own_choice)"
      ],
      "id": "6004e208-ac98-4edd-9893-934c9f746c56"
    },
    {
      "cell_type": "markdown",
      "metadata": {
        "id": "3c724286-dae8-4a57-b097-5b39e64c2aa3"
      },
      "source": [
        "### 4.8"
      ],
      "id": "3c724286-dae8-4a57-b097-5b39e64c2aa3"
    },
    {
      "cell_type": "markdown",
      "metadata": {
        "id": "14360de2-995c-4769-b0e3-8254e91a1326"
      },
      "source": [
        "Замените подстроку `Скорость` на `Терпение`, используя метод `replace()`. Сохраните результат в переменную `proverb` и выведите на экран её значение."
      ],
      "id": "14360de2-995c-4769-b0e3-8254e91a1326"
    },
    {
      "cell_type": "code",
      "execution_count": null,
      "metadata": {
        "colab": {
          "base_uri": "https://localhost:8080/"
        },
        "id": "d2f8c096-9283-4fbc-832f-b44998a51461",
        "outputId": "3247c118-873d-44e5-a0fe-90fac09ba4e7"
      },
      "outputs": [
        {
          "output_type": "stream",
          "name": "stdout",
          "text": [
            "Терпение и труд все перетрут.\n"
          ]
        }
      ],
      "source": [
        "proverb = 'Скорость и труд все перетрут.'\n",
        "# допишите код\n",
        "proverb = proverb.replace('Скорость', 'Терпение')\n",
        "print(proverb)"
      ],
      "id": "d2f8c096-9283-4fbc-832f-b44998a51461"
    },
    {
      "cell_type": "markdown",
      "metadata": {
        "id": "2be7f1cb-4179-4922-b58f-439cd3e3edd9"
      },
      "source": [
        "### 4.9"
      ],
      "id": "2be7f1cb-4179-4922-b58f-439cd3e3edd9"
    },
    {
      "cell_type": "markdown",
      "metadata": {
        "id": "99de2f32-7ef4-4e3b-9605-66d1b60289b3"
      },
      "source": [
        "С помощью f-строк выведите на экран фразу: Книга «Географ глобус пропил» впервые опубликована в 1997 году издательством \"Вагриус\".  \n",
        "Год и наименование издательства вставьте в строку из переменных `year` и `publisher`"
      ],
      "id": "99de2f32-7ef4-4e3b-9605-66d1b60289b3"
    },
    {
      "cell_type": "code",
      "execution_count": null,
      "metadata": {
        "colab": {
          "base_uri": "https://localhost:8080/"
        },
        "id": "2893d28b-5720-43a1-997c-62e23ec020a3",
        "outputId": "088ca5f7-41a9-4d3f-d772-e1e2aa91b1b8"
      },
      "outputs": [
        {
          "output_type": "stream",
          "name": "stdout",
          "text": [
            "Книга «Географ глобус пропил» вперые опубликована в 1997 году издательством \"Вагриус\"\n"
          ]
        }
      ],
      "source": [
        "year = 1997\n",
        "publisher = 'Вагриус'\n",
        "# допишите код\n",
        "# (на выходе предложение: Книга «Географ глобус пропил» вперые опубликована в 1997 году издательством \"Вагриус\".)\n",
        "text = f'Книга «Географ глобус пропил» вперые опубликована в {year} году издательством \"{publisher}\"'\n",
        "print(text)"
      ],
      "id": "2893d28b-5720-43a1-997c-62e23ec020a3"
    },
    {
      "cell_type": "code",
      "execution_count": null,
      "metadata": {
        "id": "p-p4Fhvf2uGL"
      },
      "outputs": [],
      "source": [
        "#@title Самопроверка (запустите код в ячейке)\n",
        "assert main_character_len == 12, 'Неверное значение main_character_len'\n",
        "assert len(sphinx_riddle) in range(330, 334), 'Неверное значение sphinx_riddle'\n",
        "assert book_title_e_plus == 'е', 'Неверное значение book_title_e_plus'\n",
        "assert book_title_e_minus == 'е', 'Неверное значение book_title_e_minus'\n",
        "assert word_slice == 'том', 'Неверное значение word_slice'\n",
        "assert len(my_own_choice) in [23, 26], 'Неверное значение my_own_choice'\n",
        "assert proverb.split()[0] == 'Терпение', 'Неверное значение proverb'\n",
        "assert len(text) in range(85, 88), 'Неверное значение text'"
      ],
      "id": "p-p4Fhvf2uGL"
    },
    {
      "cell_type": "markdown",
      "metadata": {
        "id": "4ba242e8-a4e8-4a7d-8cb9-12d546db0e96"
      },
      "source": [
        "## Тема 5. Списки (list)"
      ],
      "id": "4ba242e8-a4e8-4a7d-8cb9-12d546db0e96"
    },
    {
      "cell_type": "markdown",
      "metadata": {
        "id": "ad274481-c531-4346-b6c9-0fab246e3fac"
      },
      "source": [
        "### 5.1"
      ],
      "id": "ad274481-c531-4346-b6c9-0fab246e3fac"
    },
    {
      "cell_type": "markdown",
      "metadata": {
        "id": "3b1b7cb5-4ea4-4540-8a76-e17eeaf4cc75"
      },
      "source": [
        "Запишите в список значения из первой строки таблицы с рейтингом книг. Результат сохраните в переменную `book_info` и выведите на экран её содержимое. Строки должны иметь тип str, целые числа — int, а вещественные числа — float."
      ],
      "id": "3b1b7cb5-4ea4-4540-8a76-e17eeaf4cc75"
    },
    {
      "cell_type": "markdown",
      "metadata": {
        "id": "5291ad71-ab4c-48de-8f40-19902c4b80d0"
      },
      "source": [
        "![image.png](data:image/png;base64,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)"
      ],
      "id": "5291ad71-ab4c-48de-8f40-19902c4b80d0"
    },
    {
      "cell_type": "code",
      "execution_count": null,
      "metadata": {
        "id": "b0e73284-2897-4518-8ef7-8fbf18a1b0b5",
        "colab": {
          "base_uri": "https://localhost:8080/"
        },
        "outputId": "c89d35e7-dd97-4be3-98b5-7a571d087429"
      },
      "outputs": [
        {
          "output_type": "stream",
          "name": "stdout",
          "text": [
            "['Дети мои', 'Гузель Яхина', 'роман', 2018, 'ACT', 3.0]\n"
          ]
        }
      ],
      "source": [
        "# допишите код\n",
        "book_info = [\n",
        "    'Дети мои', 'Гузель Яхина', 'роман', 2018, 'ACT', 3.0\n",
        "]\n",
        "print(book_info)"
      ],
      "id": "b0e73284-2897-4518-8ef7-8fbf18a1b0b5"
    },
    {
      "cell_type": "markdown",
      "metadata": {
        "id": "7ce371c6-6067-4cdc-ace9-e8829226d838"
      },
      "source": [
        "### 5.2"
      ],
      "id": "7ce371c6-6067-4cdc-ace9-e8829226d838"
    },
    {
      "cell_type": "markdown",
      "metadata": {
        "id": "ac86c485-daed-4f99-9a66-046385bb7193"
      },
      "source": [
        "В списке `book_marquez` хранятся данные о книге Маркеса \"Сто лет одиночества\".   \n",
        "Используя индекс, получите страну написания книги.  \n",
        "Сохраните ее в переменную `country`.  \n",
        "Выведите на экран содержимое `country`.  "
      ],
      "id": "ac86c485-daed-4f99-9a66-046385bb7193"
    },
    {
      "cell_type": "code",
      "execution_count": null,
      "metadata": {
        "id": "5c4d37c2-6bb0-4ae2-8b3d-0bdc73b18656",
        "colab": {
          "base_uri": "https://localhost:8080/"
        },
        "outputId": "9d597a9d-0f7f-4512-8d98-759edadbbc1a"
      },
      "outputs": [
        {
          "output_type": "stream",
          "name": "stdout",
          "text": [
            "АРГЕНТИНА\n"
          ]
        }
      ],
      "source": [
        "book_marquez = ['Сто лет одиночества', 'Габриэль Гарсиа Маркес', 'роман', 1967, 2.0, 'АРГЕНТИНА']\n",
        "# допишите код\n",
        "country = book_marquez[-1]\n",
        "print(country)"
      ],
      "id": "5c4d37c2-6bb0-4ae2-8b3d-0bdc73b18656"
    },
    {
      "cell_type": "markdown",
      "metadata": {
        "id": "0ff57028-bd16-42e2-8708-fb742c798b99"
      },
      "source": [
        "### 5.3"
      ],
      "id": "0ff57028-bd16-42e2-8708-fb742c798b99"
    },
    {
      "cell_type": "markdown",
      "metadata": {
        "id": "b7288db0-d02a-4fab-b787-85f7a43e83b8"
      },
      "source": [
        "Получите срез списка book_marquez: начало среза - 'роман', конец среза - 2.0.  \n",
        "Сохраните в переменную `book_marquez_slice`."
      ],
      "id": "b7288db0-d02a-4fab-b787-85f7a43e83b8"
    },
    {
      "cell_type": "code",
      "execution_count": null,
      "metadata": {
        "id": "e361382f-6b04-4968-bfd4-9bbca8b4ea87",
        "colab": {
          "base_uri": "https://localhost:8080/"
        },
        "outputId": "ff2a406f-cdd3-42f5-821c-4c5c256581c3"
      },
      "outputs": [
        {
          "output_type": "stream",
          "name": "stdout",
          "text": [
            "['роман', 1967, 2.0]\n"
          ]
        }
      ],
      "source": [
        "book_marquez = ['Сто лет одиночества', 'Габриэль Гарсиа Маркес', 'роман', 1967, 2.0, 'АРГЕНТИНА']\n",
        "# допишите код\n",
        "book_marquez_slice = book_marquez[2:5]\n",
        "print(book_marquez_slice)"
      ],
      "id": "e361382f-6b04-4968-bfd4-9bbca8b4ea87"
    },
    {
      "cell_type": "markdown",
      "metadata": {
        "id": "c9add49a-aabe-4ed8-a0e6-507ca166d3e4"
      },
      "source": [
        "### 5.4"
      ],
      "id": "c9add49a-aabe-4ed8-a0e6-507ca166d3e4"
    },
    {
      "cell_type": "markdown",
      "metadata": {
        "id": "113de96b-7aca-4bc1-8baf-e7dd22e34084"
      },
      "source": [
        "С помощью оператора `+` сложите два списка в том же порядке, в котором они объявлены. Сохраните результат в переменной `book_dostoevsky` и выведите на экран её содержимое."
      ],
      "id": "113de96b-7aca-4bc1-8baf-e7dd22e34084"
    },
    {
      "cell_type": "code",
      "execution_count": null,
      "metadata": {
        "id": "264c413d-f750-4502-b74b-0dc50c78bd95",
        "colab": {
          "base_uri": "https://localhost:8080/"
        },
        "outputId": "71004518-8823-4d65-be84-0da36bbe0cfc"
      },
      "outputs": [
        {
          "output_type": "stream",
          "name": "stdout",
          "text": [
            "['Братья Карамазовы', 'Фёдор Достоевский', 'роман', 1880, 'Русский вестник', 6.0, 'РОССИЯ']\n"
          ]
        }
      ],
      "source": [
        "first_part = ['Братья Карамазовы', 'Фёдор Достоевский', 'роман']\n",
        "second_part = [1880, 'Русский вестник', 6.0, 'РОССИЯ']\n",
        "# допишите код\n",
        "book_dostoevsky = first_part + second_part\n",
        "print(book_dostoevsky)"
      ],
      "id": "264c413d-f750-4502-b74b-0dc50c78bd95"
    },
    {
      "cell_type": "markdown",
      "metadata": {
        "id": "947835d7-d762-482d-beff-b011e309bd85"
      },
      "source": [
        "### 5.5"
      ],
      "id": "947835d7-d762-482d-beff-b011e309bd85"
    },
    {
      "cell_type": "markdown",
      "metadata": {
        "id": "74fa4dee-e3a7-48ed-9f20-f25ef54305a6"
      },
      "source": [
        "В списке `book_remarque` - данные о книге 'Три товарища'. Но не хватает информации:\n",
        "год издания - 1936,  \n",
        "издательство - 'Gyldendal',  \n",
        "рейтинг - 8.0.  \n",
        "Добавьте эти значения в список методом extend() в том же порядке. Результат выведите на экран"
      ],
      "id": "74fa4dee-e3a7-48ed-9f20-f25ef54305a6"
    },
    {
      "cell_type": "code",
      "execution_count": null,
      "metadata": {
        "id": "6309446a-6853-4c05-a8e2-338c184f82a9",
        "colab": {
          "base_uri": "https://localhost:8080/"
        },
        "outputId": "534eb949-ed87-4350-b868-6da2644c4ee8"
      },
      "outputs": [
        {
          "output_type": "stream",
          "name": "stdout",
          "text": [
            "['Три товарища', 'Эрих Мария Ремарк', 'роман', 1936, 'Gyldendal', 8.0]\n"
          ]
        }
      ],
      "source": [
        "book_remarque = ['Три товарища', 'Эрих Мария Ремарк', 'роман']\n",
        "# допишите код\n",
        "# (используйте метод extend())\n",
        "book_remarque.extend([1936, 'Gyldendal', 8.0])\n",
        "print(book_remarque)"
      ],
      "id": "6309446a-6853-4c05-a8e2-338c184f82a9"
    },
    {
      "cell_type": "markdown",
      "metadata": {
        "id": "1ce2c2ae-e722-4b16-bc3d-0827de110778"
      },
      "source": [
        "### 5.6"
      ],
      "id": "1ce2c2ae-e722-4b16-bc3d-0827de110778"
    },
    {
      "cell_type": "markdown",
      "metadata": {
        "id": "cb3f59f4-1e05-4ad2-b407-81e9b9427c9e"
      },
      "source": [
        "Отсортируйте список `book_title` по возрастанию. Выведите результат на экран."
      ],
      "id": "cb3f59f4-1e05-4ad2-b407-81e9b9427c9e"
    },
    {
      "cell_type": "code",
      "execution_count": null,
      "metadata": {
        "id": "24ac7780-edbd-4851-8782-631991d98ed0",
        "colab": {
          "base_uri": "https://localhost:8080/"
        },
        "outputId": "8dcb20b8-51c4-4b49-c195-06bcbd6a4ffb"
      },
      "outputs": [
        {
          "output_type": "stream",
          "name": "stdout",
          "text": [
            "['Авиатор', 'До встречи с тобой', 'Зулейха открывает глаза', 'Лавр', 'Лестница Якова', 'Русская канарейка', 'С неба упали три яблока', 'Таинственная страсть', 'Шантарам']\n"
          ]
        }
      ],
      "source": [
        "book_title = ['Лестница Якова', 'Зулейха открывает глаза', 'Русская канарейка',\n",
        "              'Лавр', 'Шантарам', 'Авиатор', 'Таинственная страсть',\n",
        "              'До встречи с тобой', 'С неба упали три яблока']\n",
        "# допишите код\n",
        "book_title.sort()\n",
        "print(book_title)"
      ],
      "id": "24ac7780-edbd-4851-8782-631991d98ed0"
    },
    {
      "cell_type": "markdown",
      "metadata": {
        "id": "35727ff5-c5e7-4fe4-9267-2e8ee7dfb2d7"
      },
      "source": [
        "### 5.7"
      ],
      "id": "35727ff5-c5e7-4fe4-9267-2e8ee7dfb2d7"
    },
    {
      "cell_type": "markdown",
      "metadata": {
        "id": "5fe9aa02-de09-4c53-aeb3-cf8a6e7b7692"
      },
      "source": [
        "Отсортируйте по убыванию список `book_publish_year` с помощью функции функцию `sorted().`   \n",
        "Результат сохраните в переменной `book_publish_year_sorted` и выведите на экран."
      ],
      "id": "5fe9aa02-de09-4c53-aeb3-cf8a6e7b7692"
    },
    {
      "cell_type": "code",
      "execution_count": null,
      "metadata": {
        "id": "1e0c5a5c-d534-4ad5-a2b6-40f717da6495",
        "colab": {
          "base_uri": "https://localhost:8080/"
        },
        "outputId": "856d98f3-bec1-48b7-ec1c-3bfa20158273"
      },
      "outputs": [
        {
          "output_type": "stream",
          "name": "stdout",
          "text": [
            "[2014, 2013, 2012, 2011, 1998, 1997, 1995, 1967, 1936]\n"
          ]
        }
      ],
      "source": [
        "book_publish_year = [2014, 1967, 1936, 1997, 1995, 2013, 2011, 2012, 1998]\n",
        "# допишите код\n",
        "book_publish_year_sorted = sorted(book_publish_year, reverse= True)\n",
        "print(book_publish_year_sorted)"
      ],
      "id": "1e0c5a5c-d534-4ad5-a2b6-40f717da6495"
    },
    {
      "cell_type": "markdown",
      "metadata": {
        "id": "37cc35ca-418f-4a26-b63c-4437ff1d7fbe"
      },
      "source": [
        "### 5.8  "
      ],
      "id": "37cc35ca-418f-4a26-b63c-4437ff1d7fbe"
    },
    {
      "cell_type": "markdown",
      "metadata": {
        "id": "683c9e82-a9ce-4559-bde8-dc733ceb769f"
      },
      "source": [
        "С помощью метода `index()` найдите номер элемента списка `book_dostoevsky` c датой первой публикации романа. Сохраните индекс в переменной `publish_year` и выведите её на экран."
      ],
      "id": "683c9e82-a9ce-4559-bde8-dc733ceb769f"
    },
    {
      "cell_type": "code",
      "execution_count": null,
      "metadata": {
        "id": "406f8156-06f4-477c-ad32-adc848dfa471",
        "colab": {
          "base_uri": "https://localhost:8080/"
        },
        "outputId": "f7987aaa-3024-46b5-e36f-56dabcd48394"
      },
      "outputs": [
        {
          "output_type": "stream",
          "name": "stdout",
          "text": [
            "3\n"
          ]
        }
      ],
      "source": [
        "book_dostoevsky = ['Братья Карамазовы', 'Фёдор Достоевский', 'роман', 1880, 'Русский вестник', 6.0, 'РОССИЯ']\n",
        "# допишите код\n",
        "publish_year = book_dostoevsky.index(1880)\n",
        "print(publish_year)"
      ],
      "id": "406f8156-06f4-477c-ad32-adc848dfa471"
    },
    {
      "cell_type": "markdown",
      "metadata": {
        "id": "0eb5c398-f1b1-44f5-a2b6-807e31f11b50"
      },
      "source": [
        "### 5.9"
      ],
      "id": "0eb5c398-f1b1-44f5-a2b6-807e31f11b50"
    },
    {
      "cell_type": "markdown",
      "metadata": {
        "id": "84bf241f-0f7f-45a1-98f8-4fc5396fb6b5"
      },
      "source": [
        "Разбейте строку `book_author`  на список слов с фамилиями писателей. Разделителем служит символ `-` . Сохраните результат в переменной `great_writers` и выведите его на экран."
      ],
      "id": "84bf241f-0f7f-45a1-98f8-4fc5396fb6b5"
    },
    {
      "cell_type": "code",
      "execution_count": null,
      "metadata": {
        "id": "d4765bc7-34f7-4bdc-a3ee-9d66c053124d",
        "colab": {
          "base_uri": "https://localhost:8080/"
        },
        "outputId": "b20e3b33-d19f-441f-f4a8-9838c6eceff1"
      },
      "outputs": [
        {
          "output_type": "stream",
          "name": "stdout",
          "text": [
            "['Пушкин', 'Лермонтов', 'Достоевский', 'Толстой']\n"
          ]
        }
      ],
      "source": [
        "book_author = 'Пушкин-Лермонтов-Достоевский-Толстой'\n",
        "# допишите код\n",
        "great_writers = book_author.split('-')\n",
        "print(great_writers)"
      ],
      "id": "d4765bc7-34f7-4bdc-a3ee-9d66c053124d"
    },
    {
      "cell_type": "code",
      "execution_count": null,
      "metadata": {
        "id": "dQ372xlN9lrx"
      },
      "outputs": [],
      "source": [
        "#@title Самопроверка (запустите код в ячейке)\n",
        "assert len(book_info) == 6, 'Неверное значение book_info'\n",
        "assert country == 'АРГЕНТИНА', 'Неверное значение country'\n",
        "assert len(book_marquez_slice) == 3, 'Неверное значение book_marquez_slice'\n",
        "assert len(book_dostoevsky) == 7, 'Неверное значение book_dostoevsky'\n",
        "assert len(book_remarque) == 6, 'Неверное значение book_remarque'\n",
        "assert book_title[0] == 'Авиатор', 'Неверное значение book_title'\n",
        "assert book_publish_year_sorted[-1] == 1936, 'Неверное значение book_publish_year_sorted'\n",
        "assert publish_year == 3, 'Неверное значение publish_year'\n",
        "assert len(great_writers) == 4, 'Неверное значение great_writers'"
      ],
      "id": "dQ372xlN9lrx"
    },
    {
      "cell_type": "markdown",
      "metadata": {
        "id": "8ca4d882-81e7-4ed7-a2b2-287c6b008504"
      },
      "source": [
        "## Тема 6. Цикл for"
      ],
      "id": "8ca4d882-81e7-4ed7-a2b2-287c6b008504"
    },
    {
      "cell_type": "markdown",
      "metadata": {
        "id": "6729684c-1aa3-49ee-a77a-889346ce878f"
      },
      "source": [
        "### 6.1"
      ],
      "id": "6729684c-1aa3-49ee-a77a-889346ce878f"
    },
    {
      "cell_type": "markdown",
      "metadata": {
        "id": "200c8a60-fd1d-43d6-a559-ed165d42f3f7"
      },
      "source": [
        "В `цикле for` выведите на экран каждый элемент списка `book_remarque` с новой строки."
      ],
      "id": "200c8a60-fd1d-43d6-a559-ed165d42f3f7"
    },
    {
      "cell_type": "code",
      "execution_count": 82,
      "metadata": {
        "id": "deafbfc6-2a94-4877-ba73-8417a8e1e8e7",
        "colab": {
          "base_uri": "https://localhost:8080/"
        },
        "outputId": "4ee8f04c-80a7-4604-cf5c-d335e0688b4d"
      },
      "outputs": [
        {
          "output_type": "stream",
          "name": "stdout",
          "text": [
            "Три товарища\n",
            "Эрих Мария Ремарк\n",
            "роман\n",
            "1936\n",
            "Gyldendal\n",
            "8.0\n"
          ]
        }
      ],
      "source": [
        "book_remarque = ['Три товарища', 'Эрих Мария Ремарк', 'роман', 1936, 'Gyldendal', 8.0]\n",
        "# допишите код\n",
        "for book in book_remarque:\n",
        "  print(book)"
      ],
      "id": "deafbfc6-2a94-4877-ba73-8417a8e1e8e7"
    },
    {
      "cell_type": "markdown",
      "metadata": {
        "id": "599e64b6-f532-435c-8d89-53827624e3cb"
      },
      "source": [
        "### 6.2"
      ],
      "id": "599e64b6-f532-435c-8d89-53827624e3cb"
    },
    {
      "cell_type": "markdown",
      "metadata": {
        "id": "f4cdebac-8c99-465e-a8d1-27e674c59d39"
      },
      "source": [
        "Используя перебор индексов, перед каждой книгой в списке `fantasy_novel` выведите жанр книги ('жанр фентези: ')."
      ],
      "id": "f4cdebac-8c99-465e-a8d1-27e674c59d39"
    },
    {
      "cell_type": "code",
      "execution_count": 83,
      "metadata": {
        "id": "9b70b67a-8784-46e6-bb05-62eaee18458b",
        "colab": {
          "base_uri": "https://localhost:8080/"
        },
        "outputId": "395561f4-a719-4691-9edf-5f7d955f576e"
      },
      "outputs": [
        {
          "output_type": "stream",
          "name": "stdout",
          "text": [
            "жанр фентези: Ночной Дозор\n",
            "жанр фентези: Игра престолов\n",
            "жанр фентези: Вино из одуванчиков\n"
          ]
        }
      ],
      "source": [
        "fantasy_novel = ['Ночной Дозор', 'Игра престолов', 'Вино из одуванчиков']\n",
        "# допишите код\n",
        "for i in fantasy_novel:\n",
        "  print(f'жанр фентези: {i}')"
      ],
      "id": "9b70b67a-8784-46e6-bb05-62eaee18458b"
    },
    {
      "cell_type": "markdown",
      "metadata": {
        "id": "d801c292-bbbb-4501-96a5-b6fc4bc73b4a"
      },
      "source": [
        "### 6.3"
      ],
      "id": "d801c292-bbbb-4501-96a5-b6fc4bc73b4a"
    },
    {
      "cell_type": "markdown",
      "metadata": {
        "id": "2a1e8495-a43d-4082-ae8f-2bd0fff4020e"
      },
      "source": [
        "С помощью встроенной функции `min()` найдите минимальную цену книги \"Заводной апельсин\" (`min_price`) в списке `clockwork_orange_price`. Выведите ее на экран."
      ],
      "id": "2a1e8495-a43d-4082-ae8f-2bd0fff4020e"
    },
    {
      "cell_type": "code",
      "execution_count": 84,
      "metadata": {
        "id": "fc8ec2d7-4529-4a7c-9c7b-fec1c8b14b5f",
        "colab": {
          "base_uri": "https://localhost:8080/"
        },
        "outputId": "8af3b4d0-48d7-4b2e-af57-0f12ae87cb96"
      },
      "outputs": [
        {
          "output_type": "stream",
          "name": "stdout",
          "text": [
            "269\n"
          ]
        }
      ],
      "source": [
        "clockwork_orange_price = [513, 269, 283, 638, 452]\n",
        "# допишите код\n",
        "min_price = min(clockwork_orange_price)\n",
        "print(min_price)"
      ],
      "id": "fc8ec2d7-4529-4a7c-9c7b-fec1c8b14b5f"
    },
    {
      "cell_type": "code",
      "execution_count": 85,
      "metadata": {
        "id": "qNHx84ZmBVC_"
      },
      "outputs": [],
      "source": [
        "#@title Самопроверка (запустите код в ячейке)\n",
        "assert min_price == 269, 'Неверное значение min_price'"
      ],
      "id": "qNHx84ZmBVC_"
    },
    {
      "cell_type": "markdown",
      "metadata": {
        "id": "66e5a200-bf45-49d4-a5f2-727345c0f69b"
      },
      "source": [
        "## Тема 7. Вложенные списки"
      ],
      "id": "66e5a200-bf45-49d4-a5f2-727345c0f69b"
    },
    {
      "cell_type": "markdown",
      "metadata": {
        "id": "3bb7bd5d-7ae4-40b2-a65f-86f8e227a8d4"
      },
      "source": [
        "### 7.1"
      ],
      "id": "3bb7bd5d-7ae4-40b2-a65f-86f8e227a8d4"
    },
    {
      "cell_type": "markdown",
      "metadata": {
        "id": "f2e6161f-ea61-40dc-b0fc-0df32052e361"
      },
      "source": [
        "Обратитесь к списку `book_table` и выведите на экран:\n",
        "- автора книги \"Лестница Якова\";  \n",
        "- год выхода романа \"Авиатор\";  \n",
        "- рейтинг книги «Призрак Канта».  \n",
        "Извлекайте элементы по индексу и выводите их функцией print(), каждый элемент на новой строке."
      ],
      "id": "f2e6161f-ea61-40dc-b0fc-0df32052e361"
    },
    {
      "cell_type": "code",
      "execution_count": 87,
      "metadata": {
        "id": "8fdad5a5-974b-4a37-9774-cb263b8b2037",
        "colab": {
          "base_uri": "https://localhost:8080/"
        },
        "outputId": "b20559f7-c70f-4346-8966-23221d40f934"
      },
      "outputs": [
        {
          "output_type": "stream",
          "name": "stdout",
          "text": [
            "Людмила Улицкая\n",
            "2016\n",
            "4.0\n"
          ]
        }
      ],
      "source": [
        "book_table = [\n",
        "    ['Географ глобус пропил', 'Алексей Иванов', 'роман', 1997, 'РОССИЯ', 5.0],\n",
        "    ['Лестница Якова', 'Людмила Улицкая', 'роман', 2015, 'РОССИЯ', 1.0],\n",
        "    ['Зулейха открывает глаза', 'Гузель Яхина', 'роман', 2015, 'РОССИЯ', 2.0],\n",
        "    ['Русская канарейка', 'Дина Рубина', 'роман', 2014, 'РОССИЯ', 3.0],\n",
        "    ['Обитель', 'Захар Прилепин', 'роман', 2014, 'РОССИЯ', 4.0],\n",
        "    ['Авиатор', 'Евгений Водолазкин', 'роман', 2016, 'РОССИЯ', 8.0],\n",
        "    ['Зимняя дорога', 'Леонид Юзефович', 'роман', 2015, 'РОССИЯ', 8.0],\n",
        "    ['Призрак Канта', 'Татьяна Устинова', 'роман', 2016, 'РОССИЯ', 4.0]\n",
        "]\n",
        "\n",
        "# допишите код\n",
        "author = book_table[1][1]\n",
        "year = book_table[5][3]\n",
        "rating = book_table[-1][-1]\n",
        "print(author)\n",
        "print(year)\n",
        "print(rating)"
      ],
      "id": "8fdad5a5-974b-4a37-9774-cb263b8b2037"
    },
    {
      "cell_type": "markdown",
      "metadata": {
        "id": "def3541c-bc02-47be-b3e8-53f5e049c726"
      },
      "source": [
        "### 7.2"
      ],
      "id": "def3541c-bc02-47be-b3e8-53f5e049c726"
    },
    {
      "cell_type": "markdown",
      "metadata": {
        "id": "3d7bb3e9-b4dd-4be4-bce0-79233133e98d"
      },
      "source": [
        "Выведите на экран столбец с именами авторов книг таблицы `book_table`. Каждое значение выводите на новой строке."
      ],
      "id": "3d7bb3e9-b4dd-4be4-bce0-79233133e98d"
    },
    {
      "cell_type": "code",
      "execution_count": 88,
      "metadata": {
        "id": "a644be4f-9dc7-4af7-97aa-3cae5a4ccf4a",
        "colab": {
          "base_uri": "https://localhost:8080/"
        },
        "outputId": "8aba6916-0c7c-4051-bb8b-d9a4f50c245c"
      },
      "outputs": [
        {
          "output_type": "stream",
          "name": "stdout",
          "text": [
            "Алексей Иванов\n",
            "Людмила Улицкая\n",
            "Гузель Яхина\n",
            "Дина Рубина\n",
            "Захар Прилепин\n",
            "Евгений Водолазкин\n",
            "Леонид Юзефович\n",
            "Татьяна Устинова\n"
          ]
        }
      ],
      "source": [
        "book_table = [\n",
        "    ['Географ глобус пропил', 'Алексей Иванов', 'роман', 1997, 'РОССИЯ', 5.0],\n",
        "    ['Лестница Якова', 'Людмила Улицкая', 'роман', 2015, 'РОССИЯ', 1.0],\n",
        "    ['Зулейха открывает глаза', 'Гузель Яхина', 'роман', 2015, 'РОССИЯ', 2.0],\n",
        "    ['Русская канарейка', 'Дина Рубина', 'роман', 2014, 'РОССИЯ', 3.0],\n",
        "    ['Обитель', 'Захар Прилепин', 'роман', 2014, 'РОССИЯ', 4.0],\n",
        "    ['Авиатор', 'Евгений Водолазкин', 'роман', 2016, 'РОССИЯ', 8.0],\n",
        "    ['Зимняя дорога', 'Леонид Юзефович', 'роман', 2015, 'РОССИЯ', 8.0],\n",
        "    ['Призрак Канта', 'Татьяна Устинова', 'роман', 2016, 'РОССИЯ', 4.0]\n",
        "]\n",
        "\n",
        "# допишите код\n",
        "for book in book_table:\n",
        "  print(book[1])"
      ],
      "id": "a644be4f-9dc7-4af7-97aa-3cae5a4ccf4a"
    },
    {
      "cell_type": "markdown",
      "metadata": {
        "id": "4ef1f734-4103-4fb3-a149-e6bde90e2117"
      },
      "source": [
        "### 7.3"
      ],
      "id": "4ef1f734-4103-4fb3-a149-e6bde90e2117"
    },
    {
      "cell_type": "markdown",
      "metadata": {
        "id": "dad89dbd-1483-4a96-b0f3-9f633cfbf906"
      },
      "source": [
        "С помощью цикла найдите сумму всех значений рейтинга книг в таблице `book_table`. Результат сохраните в переменную `rating_total` и выведите его на экран."
      ],
      "id": "dad89dbd-1483-4a96-b0f3-9f633cfbf906"
    },
    {
      "cell_type": "code",
      "execution_count": 89,
      "metadata": {
        "id": "272d4f62-f904-43be-a2ac-fb297bb8c912",
        "colab": {
          "base_uri": "https://localhost:8080/"
        },
        "outputId": "52bd3484-ca6d-4fe5-dc71-15724c7274fc"
      },
      "outputs": [
        {
          "output_type": "stream",
          "name": "stdout",
          "text": [
            "35.0\n"
          ]
        }
      ],
      "source": [
        "book_table = [\n",
        "    ['Географ глобус пропил', 'Алексей Иванов', 'роман', 1997, 'РОССИЯ', 5.0],\n",
        "    ['Лестница Якова', 'Людмила Улицкая', 'роман', 2015, 'РОССИЯ', 1.0],\n",
        "    ['Зулейха открывает глаза', 'Гузель Яхина', 'роман', 2015, 'РОССИЯ', 2.0],\n",
        "    ['Русская канарейка', 'Дина Рубина', 'роман', 2014, 'РОССИЯ', 3.0],\n",
        "    ['Обитель', 'Захар Прилепин', 'роман', 2014, 'РОССИЯ', 4.0],\n",
        "    ['Авиатор', 'Евгений Водолазкин', 'роман', 2016, 'РОССИЯ', 8.0],\n",
        "    ['Зимняя дорога', 'Леонид Юзефович', 'роман', 2015, 'РОССИЯ', 8.0],\n",
        "    ['Призрак Канта', 'Татьяна Устинова', 'роман', 2016, 'РОССИЯ', 4.0]\n",
        "]\n",
        "\n",
        "# допишите код\n",
        "rating_total = 0\n",
        "for book in book_table:\n",
        "  rating_total += book[-1]\n",
        "print(rating_total)"
      ],
      "id": "272d4f62-f904-43be-a2ac-fb297bb8c912"
    },
    {
      "cell_type": "markdown",
      "metadata": {
        "id": "ff1ac9e9-cc60-41b3-a8b4-892607dfde6d"
      },
      "source": [
        "### 7.4"
      ],
      "id": "ff1ac9e9-cc60-41b3-a8b4-892607dfde6d"
    },
    {
      "cell_type": "markdown",
      "metadata": {
        "id": "31e3b2ab-5248-473e-bdea-a1a3c641122c"
      },
      "source": [
        "Отсортируйте список списков `book_table` по убыванию года издания книги, сохраните результат в переменную `book_table_sorted`. Выведите отсортированный список на экран - каждый подсписок на отдельной строке."
      ],
      "id": "31e3b2ab-5248-473e-bdea-a1a3c641122c"
    },
    {
      "cell_type": "code",
      "execution_count": 105,
      "metadata": {
        "id": "56ba1d0a-4756-450b-ad12-f0001c449199",
        "colab": {
          "base_uri": "https://localhost:8080/"
        },
        "outputId": "bff3be71-e88e-4cae-f87a-be83e1051a45"
      },
      "outputs": [
        {
          "output_type": "stream",
          "name": "stdout",
          "text": [
            "[['Авиатор', 'Евгений Водолазкин', 'роман', 2016, 'РОССИЯ', 8.0], ['Призрак Канта', 'Татьяна Устинова', 'роман', 2016, 'РОССИЯ', 4.0], ['Зимняя дорога', 'Леонид Юзефович', 'роман', 2015, 'РОССИЯ', 8.0], ['Зулейха открывает глаза', 'Гузель Яхина', 'роман', 2015, 'РОССИЯ', 2.0], ['Лестница Якова', 'Людмила Улицкая', 'роман', 2015, 'РОССИЯ', 1.0], ['Обитель', 'Захар Прилепин', 'роман', 2014, 'РОССИЯ', 4.0], ['Русская канарейка', 'Дина Рубина', 'роман', 2014, 'РОССИЯ', 3.0], ['Географ глобус пропил', 'Алексей Иванов', 'роман', 1997, 'РОССИЯ', 5.0]]\n"
          ]
        }
      ],
      "source": [
        "# допишите код\n",
        "def sort_key(e):\n",
        "    return e[3]\n",
        "book_table_sorted = sorted(book_table, key=sort_key, reverse=True)\n",
        "\n",
        "\n",
        "print(book_table_sorted)"
      ],
      "id": "56ba1d0a-4756-450b-ad12-f0001c449199"
    },
    {
      "cell_type": "code",
      "execution_count": null,
      "metadata": {
        "id": "Z5cZ7QxrCEMv"
      },
      "outputs": [],
      "source": [
        "#@title Самопроверка (запустите код в ячейке)\n",
        "assert author == 'Людмила Улицкая', 'Неверное значение author'\n",
        "assert year == 2016, 'Неверное значение year'\n",
        "assert rating == 4.0, 'Неверное значение rating'\n",
        "assert rating_total == 35.0, 'Неверное значение rating_total'\n",
        "assert book_table_sorted[0][0] == 'Авиатор', 'Неверное значение book_table_sorted'"
      ],
      "id": "Z5cZ7QxrCEMv"
    },
    {
      "cell_type": "markdown",
      "metadata": {
        "id": "81878571-211b-49af-8ec5-154d1200cc7e"
      },
      "source": [
        "## Тема 8. Словари"
      ],
      "id": "81878571-211b-49af-8ec5-154d1200cc7e"
    },
    {
      "cell_type": "markdown",
      "metadata": {
        "id": "f509def1-0bf6-4632-b1d4-7656656c24de"
      },
      "source": [
        "### 8.1"
      ],
      "id": "f509def1-0bf6-4632-b1d4-7656656c24de"
    },
    {
      "cell_type": "markdown",
      "metadata": {
        "id": "6fb016ec-4c3f-4298-8bc9-b2cd9b433d65"
      },
      "source": [
        "Запишите в переменную `be_stronger_app` стоимость приложения `Be Stronger`. Для этого извлеките значение из словаря по ключу. Выведите переменную на экран."
      ],
      "id": "6fb016ec-4c3f-4298-8bc9-b2cd9b433d65"
    },
    {
      "cell_type": "code",
      "execution_count": 106,
      "metadata": {
        "id": "6b992b35-df97-4802-a9a3-81bdd6a44f72",
        "colab": {
          "base_uri": "https://localhost:8080/"
        },
        "outputId": "79709981-3183-4ac4-c1b0-116e1ab60f38"
      },
      "outputs": [
        {
          "output_type": "stream",
          "name": "stdout",
          "text": [
            "1.99\n"
          ]
        }
      ],
      "source": [
        "google_playstore_app_info = {\n",
        "             'Pocket Yoga': 2.99,\n",
        "             'Meditation Studio': 3.99,\n",
        "             'Relax Melodies P: Sleep Sounds': 2.99,\n",
        "             'Lullaby Add-on for Sleep as Android': 1.99,\n",
        "             'Be Stronger': 1.99,\n",
        "             'Monitor My BP': 5.99,\n",
        "             'All-night drugstore CI & Price': 0.99,\n",
        "             'Tools & Mi Band': 3.49,\n",
        "             'Dr. McDougall Mobile Cookbook': 4.99,\n",
        "             'Vital Tones EI Pro': 9.99,\n",
        "             'The EO Bar': 6.99,\n",
        "             'EO Guide': 4.99,\n",
        "             'Fast Tract mDiet': 7.99}\n",
        "\n",
        "# допишите код\n",
        "be_stronger_app = google_playstore_app_info['Be Stronger']\n",
        "print(be_stronger_app)"
      ],
      "id": "6b992b35-df97-4802-a9a3-81bdd6a44f72"
    },
    {
      "cell_type": "markdown",
      "metadata": {
        "id": "3b7a849c-2ca7-435e-b5c5-1d573998ec3f"
      },
      "source": [
        "### 8.2"
      ],
      "id": "3b7a849c-2ca7-435e-b5c5-1d573998ec3f"
    },
    {
      "cell_type": "markdown",
      "metadata": {
        "id": "b872dd0c-edd9-4144-af79-46f392958bbd"
      },
      "source": [
        "Извлеките из словаря `google_playstore_app_info` цену приложения `Fast Tract mDiet` безопасным методом get()."
      ],
      "id": "b872dd0c-edd9-4144-af79-46f392958bbd"
    },
    {
      "cell_type": "code",
      "execution_count": 107,
      "metadata": {
        "id": "057c1618-b5c9-435c-8a05-8ec661d6a102",
        "colab": {
          "base_uri": "https://localhost:8080/"
        },
        "outputId": "f0a91660-ba7a-4438-cdf4-74b5b62bfee2"
      },
      "outputs": [
        {
          "output_type": "stream",
          "name": "stdout",
          "text": [
            "7.99\n"
          ]
        }
      ],
      "source": [
        "google_playstore_app_info = {\n",
        "             'Pocket Yoga': 2.99,\n",
        "             'Meditation Studio': 3.99,\n",
        "             'Relax Melodies P: Sleep Sounds': 2.99,\n",
        "             'Lullaby Add-on for Sleep as Android': 1.99,\n",
        "             'Be Stronger': 1.99,\n",
        "             'Monitor My BP': 5.99,\n",
        "             'All-night drugstore CI & Price': 0.99,\n",
        "             'Tools & Mi Band': 3.49,\n",
        "             'Dr. McDougall Mobile Cookbook': 4.99,\n",
        "             'Vital Tones EI Pro': 9.99,\n",
        "             'The EO Bar': 6.99,\n",
        "             'EO Guide': 4.99,\n",
        "             'Fast Tract mDiet': 7.99}\n",
        "\n",
        "# допишите код\n",
        "fast_track_mdiet_price = google_playstore_app_info.get('Fast Tract mDiet')\n",
        "print(fast_track_mdiet_price)"
      ],
      "id": "057c1618-b5c9-435c-8a05-8ec661d6a102"
    },
    {
      "cell_type": "markdown",
      "metadata": {
        "id": "5208a4e9-53d7-4a61-9d67-63d548d89700"
      },
      "source": [
        "### 8.3"
      ],
      "id": "5208a4e9-53d7-4a61-9d67-63d548d89700"
    },
    {
      "cell_type": "markdown",
      "metadata": {
        "id": "3a3337c0-9504-469a-aea1-672b8de34967"
      },
      "source": [
        "Добавьте в словарь google_playstore_app_info новый элемент c ключом 'Daily Ab Workout' и значением — 1.99. Выведите измененный словарь на экран."
      ],
      "id": "3a3337c0-9504-469a-aea1-672b8de34967"
    },
    {
      "cell_type": "code",
      "execution_count": 108,
      "metadata": {
        "id": "022436b2-6a92-4895-a9f6-9874f8d36dc3",
        "colab": {
          "base_uri": "https://localhost:8080/"
        },
        "outputId": "8558772d-203f-4485-e978-8ab5e6c44ec8"
      },
      "outputs": [
        {
          "output_type": "stream",
          "name": "stdout",
          "text": [
            "{'Pocket Yoga': 2.99, 'Meditation Studio': 3.99, 'Relax Melodies P: Sleep Sounds': 2.99, 'Lullaby Add-on for Sleep as Android': 1.99, 'Be Stronger': 1.99, 'Monitor My BP': 5.99, 'All-night drugstore CI & Price': 0.99, 'Tools & Mi Band': 3.49, 'Dr. McDougall Mobile Cookbook': 4.99, 'Vital Tones EI Pro': 9.99, 'The EO Bar': 6.99, 'EO Guide': 4.99, 'Fast Tract mDiet': 7.99, 'Daily Ab Workout': 1.99}\n"
          ]
        }
      ],
      "source": [
        "google_playstore_app_info = {\n",
        "             'Pocket Yoga': 2.99,\n",
        "             'Meditation Studio': 3.99,\n",
        "             'Relax Melodies P: Sleep Sounds': 2.99,\n",
        "             'Lullaby Add-on for Sleep as Android': 1.99,\n",
        "             'Be Stronger': 1.99,\n",
        "             'Monitor My BP': 5.99,\n",
        "             'All-night drugstore CI & Price': 0.99,\n",
        "             'Tools & Mi Band': 3.49,\n",
        "             'Dr. McDougall Mobile Cookbook': 4.99,\n",
        "             'Vital Tones EI Pro': 9.99,\n",
        "             'The EO Bar': 6.99,\n",
        "             'EO Guide': 4.99,\n",
        "             'Fast Tract mDiet': 7.99}\n",
        "\n",
        "# допишите код\n",
        "google_playstore_app_info['Daily Ab Workout'] = 1.99\n",
        "print(google_playstore_app_info)"
      ],
      "id": "022436b2-6a92-4895-a9f6-9874f8d36dc3"
    },
    {
      "cell_type": "markdown",
      "metadata": {
        "id": "c5e8c706-1623-42ff-bab5-f277dcf6c78c"
      },
      "source": [
        "### 8.4"
      ],
      "id": "c5e8c706-1623-42ff-bab5-f277dcf6c78c"
    },
    {
      "cell_type": "markdown",
      "metadata": {
        "id": "954d4d41-0a09-4cb9-a222-3e1a26b708b9"
      },
      "source": [
        "Рассчитайте среднюю стоимость приложения в категории \"Health & Fitness\", запишите ее в переменную `avg_price`, округлив до второго знака после запятой, и выведите на экран.  \n",
        "В решении используйте перебор значений. Дла расчета среднего используйте функцию `len()`."
      ],
      "id": "954d4d41-0a09-4cb9-a222-3e1a26b708b9"
    },
    {
      "cell_type": "code",
      "execution_count": 109,
      "metadata": {
        "id": "14a449e0-46f7-4c96-a391-d694efb67541",
        "colab": {
          "base_uri": "https://localhost:8080/"
        },
        "outputId": "b9c2b178-22b6-4221-944b-ba87ea2574b6"
      },
      "outputs": [
        {
          "output_type": "stream",
          "name": "stdout",
          "text": [
            "4.38\n"
          ]
        }
      ],
      "source": [
        "health_and_fitness_app_info = {\n",
        "     'Pocket Yoga': 2.99,\n",
        "     'Meditation Studio': 3.99,\n",
        "     'Relax Melodies P: Sleep Sounds': 2.99,\n",
        "     'Lullaby Add-on for Sleep as Android': 1.99,\n",
        "     'Be Stronger': 1.99,\n",
        "     'Monitor My BP': 5.99,\n",
        "     'All-night drugstore CI & Price': 0.99,\n",
        "     'Tools & Mi Band': 3.49,\n",
        "     'Dr. McDougall Mobile Cookbook': 4.99,\n",
        "     'Vital Tones EI Pro': 9.99,\n",
        "     'The EO Bar': 6.99,\n",
        "     'EO Guide': 4.99,\n",
        "     'Fast Tract mDiet': 7.99,\n",
        "     'Daily Ab Workout': 1.99}\n",
        "\n",
        "# допишите код\n",
        "# рассчитайте суммарную цену всех приложений total_sale, используя перебор значений словаря\n",
        "total_price = 0\n",
        "for price in health_and_fitness_app_info:\n",
        "  total_price += health_and_fitness_app_info.get(price)\n",
        "# рассчитайте среднюю цену, разделив сумму на количество приложений в словаре (используяю функцию len())\n",
        "avg_price = round((total_price / len(health_and_fitness_app_info)), 2)\n",
        "print(avg_price)"
      ],
      "id": "14a449e0-46f7-4c96-a391-d694efb67541"
    },
    {
      "cell_type": "code",
      "execution_count": 110,
      "metadata": {
        "id": "leunDdtTFNUm"
      },
      "outputs": [],
      "source": [
        "#@title Самопроверка (запустите код в ячейке)\n",
        "assert be_stronger_app == 1.99, 'Неверное значение be_stronger_app'\n",
        "assert fast_track_mdiet_price == 7.99, 'Неверное значение fast_track_mdiet_price'\n",
        "assert google_playstore_app_info['Daily Ab Workout'] == 1.99, 'Неверное значение google_playstore_app_info'\n",
        "assert avg_price == 4.38, 'Неверное значение avg_price'"
      ],
      "id": "leunDdtTFNUm"
    },
    {
      "cell_type": "markdown",
      "metadata": {
        "id": "0d70f39a-afde-46a0-b0d0-48e3e8c0e8f5"
      },
      "source": [
        "## Тема 9. Список словарей"
      ],
      "id": "0d70f39a-afde-46a0-b0d0-48e3e8c0e8f5"
    },
    {
      "cell_type": "markdown",
      "metadata": {
        "id": "0dcbc81d-0166-4646-aba4-8f291ff9a9c9"
      },
      "source": [
        "### 9.1"
      ],
      "id": "0dcbc81d-0166-4646-aba4-8f291ff9a9c9"
    },
    {
      "cell_type": "markdown",
      "metadata": {
        "id": "a6903908-fb99-4693-98ae-9777d00de5d6"
      },
      "source": [
        "Рассчитайте общую стоимость проданных товаров из списка `orders`, скидка покупателя в текущем месяце - 10%. Результат округлите до двух знаков после запятой, запишите в переменную `total_sum` и выведите ее на экран."
      ],
      "id": "a6903908-fb99-4693-98ae-9777d00de5d6"
    },
    {
      "cell_type": "code",
      "execution_count": 123,
      "metadata": {
        "id": "d106cc6d-968a-4da4-b910-50ee87b04fdf",
        "colab": {
          "base_uri": "https://localhost:8080/"
        },
        "outputId": "8380551f-a0c4-4220-aca4-632cb3540573"
      },
      "outputs": [
        {
          "output_type": "stream",
          "name": "stdout",
          "text": [
            "812.25\n"
          ]
        }
      ],
      "source": [
        "orders = [\n",
        "    {\n",
        "        'item': 'Молоко Parmalat',    # наименование товара\n",
        "        'quantity': 3,  # количество единиц в заказе\n",
        "        'price': 133      # цена за единицу товара\n",
        "    },\n",
        "\n",
        "    {\n",
        "        'item': 'Нектарин',    # наименование товара\n",
        "        'quantity': 1.5,  # количество единиц в заказе\n",
        "        'price': 135      # цена за единицу товара\n",
        "    },\n",
        "\n",
        "    {\n",
        "        'item': 'Масло сливочное',    # наименование товара\n",
        "        'quantity': 1,  # количество единиц в заказе\n",
        "        'price': 203      # цена за единицу товара\n",
        "    },\n",
        "    {\n",
        "        'item': 'Хлебцы \"Зерновые\"',    # наименование товара\n",
        "        'quantity': 1,  # количество единиц в заказе\n",
        "        'price': 98      # цена за единицу товара\n",
        "    },\n",
        "]\n",
        "\n",
        "discount = 0.1    # скидка\n",
        "\n",
        "# допишите код\n",
        "total_sum = 0\n",
        "for order in orders:\n",
        "  total_sum += round((order.get('quantity')* order.get('price')) * (1 - discount), 2)\n",
        "print(total_sum)"
      ],
      "id": "d106cc6d-968a-4da4-b910-50ee87b04fdf"
    },
    {
      "cell_type": "code",
      "execution_count": 124,
      "metadata": {
        "id": "65zDxi2JGvDq"
      },
      "outputs": [],
      "source": [
        "#@title Самопроверка (запустите код в ячейке)\n",
        "assert total_sum == 812.25, 'Неверное значение total_sum'"
      ],
      "id": "65zDxi2JGvDq"
    },
    {
      "cell_type": "markdown",
      "metadata": {
        "id": "0d1e46eb-e151-4182-9702-b08671af5ce8"
      },
      "source": [
        "## Тема 10. Логические выражения и операторы сравнения + Тема 11. Условные конструкции"
      ],
      "id": "0d1e46eb-e151-4182-9702-b08671af5ce8"
    },
    {
      "cell_type": "markdown",
      "metadata": {
        "id": "7875e6eb-39e8-4b7c-a9c1-d54f273196e6"
      },
      "source": [
        "### 10.1"
      ],
      "id": "7875e6eb-39e8-4b7c-a9c1-d54f273196e6"
    },
    {
      "cell_type": "markdown",
      "metadata": {
        "id": "cd728e1a-dd18-44d8-9524-5c87369739e4"
      },
      "source": [
        "С помощью условного оператора проверьте рейтинг книги «Авиатор». Если он выше или равен 7.0, выведите на экран сообщение 'Высокий рейтинг', иначе — 'Обычный рейтинг'."
      ],
      "id": "cd728e1a-dd18-44d8-9524-5c87369739e4"
    },
    {
      "cell_type": "code",
      "execution_count": 125,
      "metadata": {
        "id": "9beefe83-e66c-4e1e-98ea-5f73a5d462e1",
        "colab": {
          "base_uri": "https://localhost:8080/"
        },
        "outputId": "fbf6069e-4413-446c-81d6-904b649fd2fe"
      },
      "outputs": [
        {
          "output_type": "stream",
          "name": "stdout",
          "text": [
            "Высокий рейтинг\n"
          ]
        }
      ],
      "source": [
        "book_rating = 8.0 # рейтинг книги \"Авиатор\"\n",
        "# допишите код\n",
        "if book_rating >= 7:\n",
        "  print('Высокий рейтинг')\n",
        "else:\n",
        "  print('Обычный рейтинг')"
      ],
      "id": "9beefe83-e66c-4e1e-98ea-5f73a5d462e1"
    },
    {
      "cell_type": "markdown",
      "metadata": {
        "id": "3c0be7e8-7c3b-46f0-8318-51a99cb5f82e"
      },
      "source": [
        "### 10.2"
      ],
      "id": "3c0be7e8-7c3b-46f0-8318-51a99cb5f82e"
    },
    {
      "cell_type": "markdown",
      "metadata": {
        "id": "78110b8c-1f4d-42ca-a7a8-fb3815c21af2"
      },
      "source": [
        "Проверьте год публикации книги 'Русская канарейка':\n",
        "если книга напечатана после 2000 года, выведите на экран 'Да';\n",
        "если в 2000 году или раньше — 'Нет'.\n",
        "Для проверки используйте условный оператор и обратитесь к нужному элементу списка по индексу."
      ],
      "id": "78110b8c-1f4d-42ca-a7a8-fb3815c21af2"
    },
    {
      "cell_type": "code",
      "execution_count": 126,
      "metadata": {
        "id": "f52de12d-a729-4632-826f-8b197407f2cb",
        "colab": {
          "base_uri": "https://localhost:8080/"
        },
        "outputId": "070b414a-e059-40c3-f5fe-02de4e600a82"
      },
      "outputs": [
        {
          "output_type": "stream",
          "name": "stdout",
          "text": [
            "Да\n"
          ]
        }
      ],
      "source": [
        "book_info = ['Русская канарейка', 'Дина Рубина', 'роман', 2014, 'РОССИЯ', 3.0]\n",
        "# допишите код\n",
        "if book_info[-3] > 2000:\n",
        "  print('Да')\n",
        "else:\n",
        "  print('Нет')"
      ],
      "id": "f52de12d-a729-4632-826f-8b197407f2cb"
    },
    {
      "cell_type": "markdown",
      "metadata": {
        "id": "e3999c96-1c9b-4d55-b7be-96db9f5c35d8"
      },
      "source": [
        "### 10.3"
      ],
      "id": "e3999c96-1c9b-4d55-b7be-96db9f5c35d8"
    },
    {
      "cell_type": "markdown",
      "metadata": {
        "id": "a2295e4b-c548-4c8a-92a1-4e170a3e85f4"
      },
      "source": [
        "Переменная `ratings` хранит оценки фильмов и определяется следующим массивом - [5.0, 1.0, 2.0, 3.0, 4.0, 8.0, 8.0]. С помощью цикла и условного оператора проклассифицируйте рейтинг по следующим правилам:  \n",
        "- низкий рейтинг: от 0 до 3;  \n",
        "- средний рейтинг: от 4 до 6;  \n",
        "- высокий рейтинг: 7 и выше.  \n",
        "По мере прохождения по списку печатайте результаты на экране. Каждое присвоение рейтинга выводите на новой строке."
      ],
      "id": "a2295e4b-c548-4c8a-92a1-4e170a3e85f4"
    },
    {
      "cell_type": "code",
      "execution_count": 127,
      "metadata": {
        "id": "eEoXrspIH_-J",
        "colab": {
          "base_uri": "https://localhost:8080/"
        },
        "outputId": "02bb1654-d0c1-4d57-bcf6-1fba4151126c"
      },
      "outputs": [
        {
          "output_type": "stream",
          "name": "stdout",
          "text": [
            "средний рейтинг\n",
            "низкий рейтинг\n",
            "низкий рейтинг\n",
            "низкий рейтинг\n",
            "средний рейтинг\n",
            "высокий рейтинг\n",
            "высокий рейтинг\n"
          ]
        }
      ],
      "source": [
        "ratings = [5.0, 1.0, 2.0, 3.0, 4.0, 8.0, 8.0]\n",
        "# допишите код\n",
        "for rating in ratings:\n",
        "  if rating <=3:\n",
        "    print('низкий рейтинг')\n",
        "  elif rating >= 4 and rating <= 6:\n",
        "    print('средний рейтинг')\n",
        "  else:\n",
        "    print('высокий рейтинг')"
      ],
      "id": "eEoXrspIH_-J"
    },
    {
      "cell_type": "markdown",
      "metadata": {
        "id": "bc022b2f-f4ec-4fd5-ba78-73e7e62358ac"
      },
      "source": [
        "## Тема 12. Цикл while"
      ],
      "id": "bc022b2f-f4ec-4fd5-ba78-73e7e62358ac"
    },
    {
      "cell_type": "markdown",
      "metadata": {
        "id": "85f1cd0b-cd91-4af5-ba51-fc213bb49151"
      },
      "source": [
        "### 12.1"
      ],
      "id": "85f1cd0b-cd91-4af5-ba51-fc213bb49151"
    },
    {
      "cell_type": "markdown",
      "metadata": {
        "id": "8b21755c-30fa-4eef-880d-c22badbca66a"
      },
      "source": [
        "Остаток альбомов в интернет-магазине — 5 шт. Напишите программу, которая, используя цикл while, будет выводить сообщение для каждого покупателя  — «Спасибо за покупку» — и останавливаться, когда все альбомы будут раскуплены."
      ],
      "id": "8b21755c-30fa-4eef-880d-c22badbca66a"
    },
    {
      "cell_type": "code",
      "execution_count": 129,
      "metadata": {
        "id": "pgLot8BaIU3B",
        "colab": {
          "base_uri": "https://localhost:8080/"
        },
        "outputId": "5e04ec96-615a-4a1e-d802-48c82629096d"
      },
      "outputs": [
        {
          "output_type": "stream",
          "name": "stdout",
          "text": [
            "Спасибо за покупку\n",
            "Спасибо за покупку\n",
            "Спасибо за покупку\n",
            "Спасибо за покупку\n",
            "Спасибо за покупку\n"
          ]
        }
      ],
      "source": [
        "max_sale = 5\n",
        "# допишите код\n",
        "while max_sale >0:\n",
        "  print('Спасибо за покупку')\n",
        "  max_sale -=1"
      ],
      "id": "pgLot8BaIU3B"
    },
    {
      "cell_type": "markdown",
      "metadata": {
        "id": "30ba7c85-dc22-494b-90d2-28d541c9ea7b"
      },
      "source": [
        "## Тема 13. Функции"
      ],
      "id": "30ba7c85-dc22-494b-90d2-28d541c9ea7b"
    },
    {
      "cell_type": "markdown",
      "metadata": {
        "id": "c9e841b4-4e83-4e3f-a78b-69a26eb3bad2"
      },
      "source": [
        "### 13.1"
      ],
      "id": "c9e841b4-4e83-4e3f-a78b-69a26eb3bad2"
    },
    {
      "cell_type": "markdown",
      "metadata": {
        "id": "f0576a94-5cc1-45d3-801c-8db86808aab2"
      },
      "source": [
        "Напишите функцию `filter_by_genre`, которая принимает два аргумента:  \n",
        "data: список списков с информацией о книгах,  \n",
        "genre: название жанра, по умолчанию — 'роман'.    \n",
        "Функция возвращает данные о книгах в жанре genre.   \n",
        "Для вывода результатов воспользуйтесь функцией `pretty_nested_list_print` из конспекта.\n",
        "\n",
        "Подсказка:  \n",
        "1. В заголовке функции укажите значения genre по умолчанию — 'роман'.\n",
        "2. В теле функции создайте пустой список для результатов (books_table_filtered).\n",
        "3. В цикле for пройдите по строкам таблицы и проверяйте жанр — элемент с индексом 2. Если он равен значению genre — добавьте строку в список с результатами (функция `append()`).\n",
        "4. Верните список books_table_filtered с результатами через return."
      ],
      "id": "f0576a94-5cc1-45d3-801c-8db86808aab2"
    },
    {
      "cell_type": "code",
      "execution_count": 135,
      "metadata": {
        "id": "f8bbc54e-0179-4708-b7d5-6f22b45bcf05",
        "colab": {
          "base_uri": "https://localhost:8080/"
        },
        "outputId": "0006d428-b91d-4381-9a81-d82a4e2c87ad"
      },
      "outputs": [
        {
          "output_type": "stream",
          "name": "stdout",
          "text": [
            "['Сто лет одиночества', 'Габриэль Гарсиа Маркес', 'роман', 1967, 'АРГЕНТИНА', 2.0]\n",
            "['Обитель', 'Захар Прилепин', 'роман', 2014, 'РОССИЯ', 3.0]\n",
            "['Три товарища', 'Эрих Мария Ремарк', 'роман', 1936, 'ДАНИЯ', 4.0]\n",
            "['Географ глобус пропил', 'Алексей Иванов', 'роман', 1997, 'РОССИЯ', 5.0]\n",
            "['Щегол', 'Донна Тартт', 'роман', 2013, 'СОЕДИНЕННЫЕ ШТАТЫ', 7.0]\n"
          ]
        }
      ],
      "source": [
        "def pretty_nested_list_print(nested_list):\n",
        "    '''\n",
        "    Функция выводит подсписки вложенного словаря на отдельной строке\n",
        "    '''\n",
        "    for name in nested_list:\n",
        "        print(name)\n",
        "\n",
        "\n",
        "# определите функцию  filter_by_genre\n",
        "def filter_by_genre(data, genre='роман'):\n",
        "  books_table_filtered = []\n",
        "  for i in data:\n",
        "    if i[2] == genre:\n",
        "      books_table_filtered.append(i)\n",
        "  return books_table_filtered\n",
        "\n",
        "# название, автор, жанр, год, страна публикации, рейтинг\n",
        "book_table = [\n",
        "    ['Любовь к трем цукербринам', 'Виктор Пелевин', 'антиутопия', 2014, 'РОССИЯ', 1.0],\n",
        "    ['Сто лет одиночества', 'Габриэль Гарсиа Маркес', 'роман', 1967, 'АРГЕНТИНА', 2.0],\n",
        "    ['Обитель', 'Захар Прилепин', 'роман', 2014, 'РОССИЯ', 3.0],\n",
        "    ['Три товарища', 'Эрих Мария Ремарк', 'роман', 1936, 'ДАНИЯ', 4.0],\n",
        "    ['Географ глобус пропил', 'Алексей Иванов', 'роман', 1997, 'РОССИЯ', 5.0],\n",
        "    ['Чтец', 'Бернхард Шлинк', 'драма', 1995, 'ГЕРМАНИЯ', 6.0],\n",
        "    ['Щегол', 'Донна Тартт', 'роман', 2013, 'СОЕДИНЕННЫЕ ШТАТЫ', 7.0],\n",
        "    ['Огненный перст', 'Борис Акунин', 'приключения', 2014, 'РОССИЯ', 8.0],\n",
        "    ['Дерево на крыше', 'Виктория Токарева', 'современная проза', 2011, 'РОССИЯ', 9.0],\n",
        "    ['Окна', 'Дина Рубина', 'современная проза', 2012, 'РОССИЯ', 10.0]\n",
        "]\n",
        "\n",
        "# вызовите функции ниже, сняв комментарии (#)\n",
        "books_table_filtered = filter_by_genre(book_table)\n",
        "pretty_nested_list_print(books_table_filtered)"
      ],
      "id": "f8bbc54e-0179-4708-b7d5-6f22b45bcf05"
    },
    {
      "cell_type": "code",
      "execution_count": 136,
      "metadata": {
        "id": "tw4Os3YmHMvH"
      },
      "outputs": [],
      "source": [
        "#@title Самопроверка (запустите код в ячейке)\n",
        "assert len(filter_by_genre(book_table)) == 5, 'Неверно. Функция должна выдать список романов'"
      ],
      "id": "tw4Os3YmHMvH"
    },
    {
      "cell_type": "markdown",
      "source": [
        "# Новый раздел"
      ],
      "metadata": {
        "id": "sizjSGw3ry_i"
      },
      "id": "sizjSGw3ry_i"
    }
  ],
  "metadata": {
    "colab": {
      "collapsed_sections": [
        "84b0a7f4-a348-4cb6-931c-372d87a50626",
        "eda981df-bcd0-49ee-9e5d-383e25fd7737",
        "53484126-fa83-4491-9421-fe8ae20c8759"
      ],
      "provenance": [],
      "toc_visible": true,
      "include_colab_link": true
    },
    "kernelspec": {
      "display_name": "Python 3",
      "language": "python",
      "name": "python3"
    },
    "language_info": {
      "codemirror_mode": {
        "name": "ipython",
        "version": 3
      },
      "file_extension": ".py",
      "mimetype": "text/x-python",
      "name": "python",
      "nbconvert_exporter": "python",
      "pygments_lexer": "ipython3",
      "version": "3.8.8"
    }
  },
  "nbformat": 4,
  "nbformat_minor": 5
}